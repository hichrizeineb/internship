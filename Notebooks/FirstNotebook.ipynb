{
 "cells": [
  {
   "cell_type": "markdown",
   "id": "1670e27c",
   "metadata": {},
   "source": [
    "#Setup & path configuration \n"
   ]
  },
  {
   "cell_type": "code",
   "execution_count": 4,
   "id": "6492b00c",
   "metadata": {},
   "outputs": [],
   "source": [
    "import os, numpy as np, pandas as pd, librosa\n",
    "from tqdm import tqdm\n",
    "from python_speech_features import mfcc\n",
    "from pathlib import Path\n",
    "\n",
    "PROJECT_ROOT = Path.cwd().parent if Path.cwd().name == \"Notebooks\" else Path.cwd()\n",
    "AUDIO_ROOT   = PROJECT_ROOT / \"0_dB_fan\" / \"fan\" / \"id_00\"  # adjust if needed\n",
    "FEAT_DIR     = PROJECT_ROOT / \"features\"\n",
    "PAD_DIR      = PROJECT_ROOT / \"features_padded\"\n",
    "\n",
    "SAMPLE_RATE = 16000\n",
    "CHUNK_DURATION = 1.0\n",
    "N_MFCC, N_FILT, N_FFT = 13, 26, 1024\n",
    "\n",
    "FEAT_DIR.mkdir(exist_ok=True, parents=True)\n",
    "PAD_DIR.mkdir(exist_ok=True, parents=True)\n",
    "\n"
   ]
  },
  {
   "cell_type": "markdown",
   "id": "5881d53b",
   "metadata": {},
   "source": [
    "#Load Dataset & labels "
   ]
  },
  {
   "cell_type": "code",
   "execution_count": 5,
   "id": "699403cd",
   "metadata": {},
   "outputs": [
    {
     "data": {
      "text/plain": [
       "(1418,\n",
       "                                             filename  label\n",
       " 0  c:\\Users\\hichr\\OneDrive\\Desktop\\Internship\\0_d...      0\n",
       " 1  c:\\Users\\hichr\\OneDrive\\Desktop\\Internship\\0_d...      0\n",
       " 2  c:\\Users\\hichr\\OneDrive\\Desktop\\Internship\\0_d...      0\n",
       " 3  c:\\Users\\hichr\\OneDrive\\Desktop\\Internship\\0_d...      0\n",
       " 4  c:\\Users\\hichr\\OneDrive\\Desktop\\Internship\\0_d...      0)"
      ]
     },
     "execution_count": 5,
     "metadata": {},
     "output_type": "execute_result"
    }
   ],
   "source": [
    "files, labels = [], []\n",
    "for lab in [\"normal\", \"abnormal\"]:\n",
    "    folder = AUDIO_ROOT / lab\n",
    "    if not folder.exists():\n",
    "        print(f\"Warning: {folder} not found\")\n",
    "        continue\n",
    "    for f in folder.glob(\"*.wav\"):\n",
    "        files.append(str(f))\n",
    "        labels.append(0 if lab == \"normal\" else 1)\n",
    "\n",
    "df = pd.DataFrame({\"filename\": files, \"label\": labels})\n",
    "len(df), df.head()\n"
   ]
  },
  {
   "cell_type": "markdown",
   "id": "e179e3be",
   "metadata": {},
   "source": [
    "MFCC Extraction (with Caching ) (loads existing mfcc_features.npy and mfcc_labels.npy or extracts MFCCs and saves them)"
   ]
  },
  {
   "cell_type": "code",
   "execution_count": null,
   "id": "017e3115",
   "metadata": {},
   "outputs": [
    {
     "name": "stdout",
     "output_type": "stream",
     "text": [
      "🔍 Extracting MFCCs once for this dataset + params…\n"
     ]
    },
    {
     "name": "stderr",
     "output_type": "stream",
     "text": [
      "100%|██████████| 1418/1418 [01:00<00:00, 23.45it/s]\n"
     ]
    },
    {
     "name": "stdout",
     "output_type": "stream",
     "text": [
      "💾 Saved to mfcc_cache_65694887bc5afe42\n",
      "features: 14180 labels: 14180\n"
     ]
    }
   ],
   "source": [
    "# Cached MFCC extraction (reuses df, FEAT_DIR, SAMPLE_RATE, CHUNK_DURATION, N_MFCC, N_FILT, N_FFT)\n",
    "\n",
    "import json, hashlib, os\n",
    "from pathlib import Path\n",
    "import numpy as np\n",
    "import librosa\n",
    "from tqdm import tqdm\n",
    "from python_speech_features import mfcc\n",
    "\n",
    "assert 'df' in globals(), \"df not found. Run the file listing cell first.\"\n",
    "\n",
    "PARAMS = {\n",
    "    \"sample_rate\": SAMPLE_RATE,\n",
    "    \"chunk_sec\": CHUNK_DURATION,\n",
    "    \"n_mfcc\": N_MFCC,\n",
    "    \"n_filt\": N_FILT,\n",
    "    \"n_fft\": N_FFT,\n",
    "    \"librosa_mono\": True,\n",
    "    \"version\": 1,  # bump to force refresh\n",
    "}\n",
    "\n",
    "FEAT_DIR.mkdir(exist_ok=True, parents=True)\n",
    "\n",
    "def file_sig(p: str):\n",
    "    st = os.stat(p)\n",
    "    return (p, int(st.st_size), int(st.st_mtime))\n",
    "\n",
    "manifest = [file_sig(p) for p in df[\"filename\"].tolist()]\n",
    "manifest_sorted = sorted(manifest)\n",
    "\n",
    "cache_key_src = json.dumps({\"params\": PARAMS, \"manifest\": manifest_sorted}, sort_keys=True).encode()\n",
    "cache_key = hashlib.md5(cache_key_src).hexdigest()[:16]\n",
    "\n",
    "cache_dir = FEAT_DIR / f\"mfcc_cache_{cache_key}\"\n",
    "features_path = cache_dir / \"mfcc_features.npy\"\n",
    "labels_path   = cache_dir / \"mfcc_labels.npy\"\n",
    "meta_path     = cache_dir / \"meta.json\"\n",
    "\n",
    "if features_path.exists() and labels_path.exists():\n",
    "    print(f\"✅ Using cached MFCCs: {cache_dir.name}\")\n",
    "    mfcc_features = np.load(features_path, allow_pickle=True)\n",
    "    mfcc_labels   = np.load(labels_path)\n",
    "else:\n",
    "    print(\"🔍 Extracting MFCCs once for this dataset + params…\")\n",
    "    cache_dir.mkdir(parents=True, exist_ok=True)\n",
    "\n",
    "    sr = PARAMS[\"sample_rate\"]\n",
    "    chunk_samples = int(PARAMS[\"chunk_sec\"] * sr)\n",
    "    N_M, N_FILT_, N_FFT_ = PARAMS[\"n_mfcc\"], PARAMS[\"n_filt\"], PARAMS[\"n_fft\"]\n",
    "\n",
    "    mfcc_features, mfcc_labels = [], []\n",
    "    for _, row in tqdm(df.iterrows(), total=len(df)):\n",
    "        x, _ = librosa.load(row[\"filename\"], sr=sr, mono=PARAMS[\"librosa_mono\"])\n",
    "        n_chunks = len(x) // chunk_samples\n",
    "        for c in range(n_chunks):   \n",
    "            chunk = x[c*chunk_samples:(c+1)*chunk_samples]\n",
    "            try:\n",
    "                feat = mfcc(chunk, samplerate=sr, numcep=N_M, nfilt=N_FILT_, nfft=N_FFT_)\n",
    "                mfcc_features.append(feat)            # (frames, n_mfcc)\n",
    "                mfcc_labels.append(int(row[\"label\"])) # 0/1\n",
    "            except Exception as e:\n",
    "                print(\"Error:\", row[\"filename\"], c, e)\n",
    "\n",
    "    mfcc_features = np.array(mfcc_features, dtype=object)\n",
    "    mfcc_labels   = np.array(mfcc_labels, dtype=np.int64)\n",
    "\n",
    "    np.save(features_path, mfcc_features)\n",
    "    np.save(labels_path,   mfcc_labels)\n",
    "    with open(meta_path, \"w\", encoding=\"utf-8\") as f:\n",
    "        json.dump({\"params\": PARAMS, \"manifest_len\": len(manifest_sorted)}, f, indent=2)\n",
    "    print(f\"💾 Saved to {cache_dir.name}\")\n",
    "\n",
    "print(\"features:\", len(mfcc_features), \"labels:\", len(mfcc_labels))\n"
   ]
  },
  {
   "cell_type": "markdown",
   "id": "0aa101b7",
   "metadata": {},
   "source": [
    "MFCC Padding / Trimming (loads raw MFCCs, pads/truncates them to equal length, and saves to features_padded/)"
   ]
  },
  {
   "cell_type": "code",
   "execution_count": 7,
   "id": "d4f1a396",
   "metadata": {},
   "outputs": [
    {
     "name": "stdout",
     "output_type": "stream",
     "text": [
      "💾 Saved padded to padded_6b24d77e5d8b78d7 (max_len=99)\n",
      "X shape: (14180, 99, 13) y shape: (14180,)\n"
     ]
    }
   ],
   "source": [
    "# Pad/trim to uniform length and cache result (reuses PAD_DIR, mfcc_features, mfcc_labels)\n",
    "\n",
    "import json, hashlib\n",
    "import numpy as np\n",
    "\n",
    "PAD_DIR.mkdir(exist_ok=True, parents=True)\n",
    "\n",
    "pad_meta = {\n",
    "    \"source_len\": int(len(mfcc_features)),\n",
    "    \"strategy\": \"pad_or_trim_to_max\",\n",
    "}\n",
    "pad_key = hashlib.md5(json.dumps(pad_meta, sort_keys=True).encode()).hexdigest()[:16]\n",
    "pad_dir = PAD_DIR / f\"padded_{pad_key}\"\n",
    "pad_feat_path = pad_dir / \"mfcc_features_padded.npy\"\n",
    "pad_lab_path  = pad_dir / \"mfcc_labels.npy\"\n",
    "\n",
    "if pad_feat_path.exists() and pad_lab_path.exists():\n",
    "    print(f\"✅ Using cached padded features: {pad_dir.name}\")\n",
    "    X = np.load(pad_feat_path, allow_pickle=False)\n",
    "    y = np.load(pad_lab_path)\n",
    "else:\n",
    "    pad_dir.mkdir(parents=True, exist_ok=True)\n",
    "    max_len = max(feat.shape[0] for feat in mfcc_features)\n",
    "    padded = []\n",
    "    for feat in mfcc_features:\n",
    "        if feat.shape[0] < max_len:\n",
    "            pad = np.pad(feat, ((0, max_len - feat.shape[0]), (0, 0)), mode=\"constant\")\n",
    "        else:\n",
    "            pad = feat[:max_len]\n",
    "        padded.append(pad)\n",
    "    X = np.array(padded)\n",
    "    y = mfcc_labels.astype(np.int64)\n",
    "    np.save(pad_feat_path, X)\n",
    "    np.save(pad_lab_path,  y)\n",
    "    print(f\"💾 Saved padded to {pad_dir.name} (max_len={max_len})\")\n",
    "\n",
    "print(\"X shape:\", X.shape, \"y shape:\", y.shape)\n"
   ]
  },
  {
   "cell_type": "markdown",
   "id": "edceac36",
   "metadata": {},
   "source": [
    "Train / test split + dtype prep (1D CNN ready)"
   ]
  },
  {
   "cell_type": "code",
   "execution_count": 9,
   "id": "01b9dfe7",
   "metadata": {},
   "outputs": [
    {
     "name": "stdout",
     "output_type": "stream",
     "text": [
      "X_train shape: (11344, 99, 13)\n",
      "X_test  shape: (2836, 99, 13)\n",
      "y_train shape: (11344,) unique: (array([0, 1], dtype=int32), array([8088, 3256]))\n",
      "y_test  shape: (2836,) unique: (array([0, 1], dtype=int32), array([2022,  814]))\n"
     ]
    }
   ],
   "source": [
    "# Cell 4+5 — Train/Test split + dtype prep (1D CNN ready)\n",
    "\n",
    "from sklearn.model_selection import train_test_split\n",
    "import numpy as np\n",
    "\n",
    "# 1) Split (keep class balance with stratify)\n",
    "X_train, X_test, y_train, y_test = train_test_split(\n",
    "    X, y,\n",
    "    test_size=0.20,\n",
    "    random_state=42,\n",
    "    stratify=y\n",
    ")\n",
    "\n",
    "# 2) Types / formats for Keras 1D CNN\n",
    "X_train = X_train.astype(np.float32)   # features as float32\n",
    "X_test  = X_test.astype(np.float32)\n",
    "y_train = y_train.astype(np.int32)     # labels as ints (0/1)\n",
    "y_test  = y_test.astype(np.int32)\n",
    "\n",
    "# 3) Quick sanity checks\n",
    "print(\"X_train shape:\", X_train.shape)  # (samples, timesteps, n_mfcc)\n",
    "print(\"X_test  shape:\", X_test.shape)\n",
    "print(\"y_train shape:\", y_train.shape, \"unique:\", np.unique(y_train, return_counts=True))\n",
    "print(\"y_test  shape:\", y_test.shape,   \"unique:\", np.unique(y_test, return_counts=True))\n",
    "\n",
    "# Optional: assert expected rank (3D tensors for 1D CNN)\n",
    "assert X_train.ndim == 3 and X_test.ndim == 3, \"Expected X to be (samples, timesteps, features)\"\n"
   ]
  },
  {
   "cell_type": "markdown",
   "id": "edf00e3d",
   "metadata": {},
   "source": [
    "Build the 1D -CNN +Callbacks "
   ]
  },
  {
   "cell_type": "code",
   "execution_count": null,
   "id": "60aa03cc",
   "metadata": {},
   "outputs": [],
   "source": [
    "import tensorflow as tf\n",
    "from tensorflow.keras import Sequential\n",
    "from tensorflow.keras.layers import Conv1D, MaxPooling1D, Dropout, Flatten, Dense, BatchNormalization\n",
    "from tensorflow.keras.callbacks import EarlyStopping, ModelCheckpoint, ReduceLROnPlateau\n",
    "from sklearn.utils.class_weight import compute_class_weight\n",
    "import numpy as np\n",
    "from pathlib import Path\n",
    "\n",
    "input_shape = (X_train.shape[1], X_train.shape[2])\n",
    "\n",
    "model = Sequential([\n",
    "    Conv1D(64, 5, activation=\"relu\", padding=\"same\", input_shape=input_shape),\n",
    "    BatchNormalization(),\n",
    "    MaxPooling1D(2),\n",
    "    Dropout(0.25),\n",
    "\n",
    "    Conv1D(128, 3, activation=\"relu\", padding=\"same\"),\n",
    "    BatchNormalization(),\n",
    "    MaxPooling1D(2),\n",
    "    Dropout(0.25),\n",
    "\n",
    "    Conv1D(128, 3, activation=\"relu\", padding=\"same\"),\n",
    "    BatchNormalization(),\n",
    "    MaxPooling1D(2),\n",
    "    Dropout(0.25),\n",
    "\n",
    "    Flatten(),\n",
    "    Dense(128, activation=\"relu\"),\n",
    "    Dropout(0.4),\n",
    "    Dense(1, activation=\"sigmoid\")  # binary output\n",
    "])\n",
    "\n",
    "model.compile(optimizer=\"adam\", loss=\"binary_crossentropy\", metrics=[\"accuracy\"])\n",
    "model.summary()\n",
    "\n",
    "# Handle class imbalance (your data is ~71%/29%)\n",
    "classes = np.array([0, 1])\n",
    "class_weights = compute_class_weight(class_weight=\"balanced\", classes=classes, y=y_train)\n",
    "class_weight_dict = {int(c): w for c, w in zip(classes, class_weights)}\n",
    "print(\"Class weights:\", class_weight_dict)\n",
    "\n",
    "# Callbacks\n",
    "MODEL_DIR = Path(PROJECT_ROOT) / \"model\"\n",
    "MODEL_DIR.mkdir(exist_ok=True, parents=True)\n",
    "\n",
    "ckpt_path = MODEL_DIR / \"best_mfcc_1dcnn.keras\"\n",
    "callbacks = [\n",
    "    EarlyStopping(monitor=\"val_loss\", patience=5, restore_best_weights=True),\n",
    "    ModelCheckpoint(filepath=str(ckpt_path), monitor=\"val_loss\", save_best_only=True),\n",
    "    ReduceLROnPlateau(monitor=\"val_loss\", factor=0.5, patience=2, min_lr=1e-5)\n",
    "]\n"
   ]
  },
  {
   "cell_type": "markdown",
   "id": "cc0078f4",
   "metadata": {},
   "source": [
    "**Purpose:** List each model layer and check if it has trainable weights.  \n",
    "**Proves:** Confirms which layers learn parameters (Conv1D, Dense, BatchNorm) and which do not (Pooling, Dropout, Flatten).\n"
   ]
  },
  {
   "cell_type": "code",
   "execution_count": null,
   "id": "845c1346",
   "metadata": {},
   "outputs": [],
   "source": [
    "for layer in model.layers:\n",
    "    print(layer.name, layer.trainable, hasattr(layer, 'weights') and layer.weights)\n"
   ]
  },
  {
   "cell_type": "markdown",
   "id": "cbfd4180",
   "metadata": {},
   "source": [
    "RUN1 "
   ]
  },
  {
   "cell_type": "code",
   "execution_count": 14,
   "id": "12e047aa",
   "metadata": {},
   "outputs": [
    {
     "name": "stdout",
     "output_type": "stream",
     "text": [
      "🚀 Starting fresh training\n",
      "Train shape: (11344, 99, 13)  Test shape: (2836, 99, 13)\n",
      "Train class balance: {np.int32(0): np.int64(8088), np.int32(1): np.int64(3256)}\n",
      "Using class weights: {0: np.float64(0.7012858555885262), 1: np.float64(1.742014742014742)}\n",
      "Epoch 1/30\n",
      "\u001b[1m178/178\u001b[0m \u001b[32m━━━━━━━━━━━━━━━━━━━━\u001b[0m\u001b[37m\u001b[0m \u001b[1m5s\u001b[0m 14ms/step - accuracy: 0.6868 - loss: 0.6319 - val_accuracy: 0.8036 - val_loss: 0.4338 - learning_rate: 0.0010\n",
      "Epoch 2/30\n",
      "\u001b[1m178/178\u001b[0m \u001b[32m━━━━━━━━━━━━━━━━━━━━\u001b[0m\u001b[37m\u001b[0m \u001b[1m3s\u001b[0m 14ms/step - accuracy: 0.7642 - loss: 0.4912 - val_accuracy: 0.7987 - val_loss: 0.4583 - learning_rate: 0.0010\n",
      "Epoch 3/30\n",
      "\u001b[1m178/178\u001b[0m \u001b[32m━━━━━━━━━━━━━━━━━━━━\u001b[0m\u001b[37m\u001b[0m \u001b[1m3s\u001b[0m 14ms/step - accuracy: 0.7780 - loss: 0.4618 - val_accuracy: 0.7846 - val_loss: 0.4580 - learning_rate: 0.0010\n",
      "Epoch 4/30\n",
      "\u001b[1m178/178\u001b[0m \u001b[32m━━━━━━━━━━━━━━━━━━━━\u001b[0m\u001b[37m\u001b[0m \u001b[1m2s\u001b[0m 13ms/step - accuracy: 0.8027 - loss: 0.4197 - val_accuracy: 0.7563 - val_loss: 0.5912 - learning_rate: 5.0000e-04\n",
      "Epoch 5/30\n",
      "\u001b[1m178/178\u001b[0m \u001b[32m━━━━━━━━━━━━━━━━━━━━\u001b[0m\u001b[37m\u001b[0m \u001b[1m2s\u001b[0m 13ms/step - accuracy: 0.8221 - loss: 0.4011 - val_accuracy: 0.7680 - val_loss: 0.5031 - learning_rate: 5.0000e-04\n",
      "Epoch 6/30\n",
      "\u001b[1m178/178\u001b[0m \u001b[32m━━━━━━━━━━━━━━━━━━━━\u001b[0m\u001b[37m\u001b[0m \u001b[1m2s\u001b[0m 14ms/step - accuracy: 0.8319 - loss: 0.3786 - val_accuracy: 0.7895 - val_loss: 0.4738 - learning_rate: 2.5000e-04\n",
      "💾 Saved training history to: c:\\Users\\hichr\\OneDrive\\Desktop\\Internship\\model\\train_history.json\n"
     ]
    }
   ],
   "source": [
    "# Cell 7 — Train the model with resume capability and save history\n",
    "import json\n",
    "import numpy as np\n",
    "from tensorflow.keras.models import load_model\n",
    "\n",
    "# Resume from last saved checkpoint if it exists\n",
    "if ckpt_path.exists():\n",
    "    print(f\"🔄 Resuming training from checkpoint: {ckpt_path}\")\n",
    "    model = load_model(ckpt_path)\n",
    "else:\n",
    "    print(\"🚀 Starting fresh training\")\n",
    "\n",
    "print(\"Train shape:\", X_train.shape, \" Test shape:\", X_test.shape)\n",
    "print(\"Train class balance:\", dict(zip(*np.unique(y_train, return_counts=True))))\n",
    "print(\"Using class weights:\", class_weight_dict)\n",
    "\n",
    "# Train\n",
    "history = model.fit(\n",
    "    X_train, y_train,\n",
    "    validation_data=(X_test, y_test),\n",
    "    epochs=30,\n",
    "    batch_size=64,\n",
    "    class_weight=class_weight_dict,\n",
    "    callbacks=callbacks,  # Includes EarlyStopping + Checkpoint + LR Scheduler\n",
    "    shuffle=True,\n",
    "    verbose=1\n",
    ")\n",
    "\n",
    "# Save history after each run\n",
    "hist_path = MODEL_DIR / \"train_history.json\"\n",
    "if hist_path.exists():\n",
    "    # Merge with previous if resuming\n",
    "    with open(hist_path, \"r\", encoding=\"utf-8\") as f:\n",
    "        old_hist = json.load(f)\n",
    "    for k, v in history.history.items():\n",
    "        old_hist[k] = old_hist.get(k, []) + v\n",
    "    with open(hist_path, \"w\", encoding=\"utf-8\") as f:\n",
    "        json.dump(old_hist, f, indent=2)\n",
    "else:\n",
    "    with open(hist_path, \"w\", encoding=\"utf-8\") as f:\n",
    "        json.dump(history.history, f, indent=2)\n",
    "\n",
    "print(f\"💾 Saved training history to: {hist_path}\")\n"
   ]
  },
  {
   "cell_type": "markdown",
   "id": "2a7dc937",
   "metadata": {},
   "source": [
    "TRAIN/VAL/TEST SPLIT "
   ]
  },
  {
   "cell_type": "code",
   "execution_count": 15,
   "id": "52f9e7cd",
   "metadata": {},
   "outputs": [
    {
     "name": "stdout",
     "output_type": "stream",
     "text": [
      "Train: (9075, 99, 13), Val: (2269, 99, 13), Test: (2836, 99, 13)\n",
      "Train labels: {np.int32(0): np.int64(6470), np.int32(1): np.int64(2605)}\n",
      "Val labels: {np.int32(0): np.int64(1618), np.int32(1): np.int64(651)}\n",
      "Test labels: {np.int32(0): np.int64(2022), np.int32(1): np.int64(814)}\n"
     ]
    }
   ],
   "source": [
    "from sklearn.model_selection import train_test_split\n",
    "\n",
    "# First split: train+val and test\n",
    "X_trainval, X_test, y_trainval, y_test = train_test_split(\n",
    "    X, y, test_size=0.20, random_state=42, stratify=y\n",
    ")\n",
    "\n",
    "# Second split: train and validation\n",
    "X_train, X_val, y_train, y_val = train_test_split(\n",
    "    X_trainval, y_trainval, test_size=0.20, random_state=42, stratify=y_trainval\n",
    ")\n",
    "\n",
    "# Convert to proper dtypes\n",
    "X_train = X_train.astype(np.float32)\n",
    "X_val   = X_val.astype(np.float32)\n",
    "X_test  = X_test.astype(np.float32)\n",
    "y_train = y_train.astype(np.int32)\n",
    "y_val   = y_val.astype(np.int32)\n",
    "y_test  = y_test.astype(np.int32)\n",
    "\n",
    "# Sanity check\n",
    "print(f\"Train: {X_train.shape}, Val: {X_val.shape}, Test: {X_test.shape}\")\n",
    "print(\"Train labels:\", dict(zip(*np.unique(y_train, return_counts=True))))\n",
    "print(\"Val labels:\", dict(zip(*np.unique(y_val, return_counts=True))))\n",
    "print(\"Test labels:\", dict(zip(*np.unique(y_test, return_counts=True))))\n"
   ]
  },
  {
   "cell_type": "markdown",
   "id": "0c69f201",
   "metadata": {},
   "source": [
    "### 📊 Data Split Summary\n",
    "\n",
    "**Split ratios**  \n",
    "- **Train**: 9075 samples (~64%)  \n",
    "- **Validation**: 2269 samples (~16%)  \n",
    "- **Test**: 2836 samples (~20%)  \n",
    "✅ Classic 64/16/20 split → enough data for training and unbiased evaluation.\n",
    "\n",
    "**Class balance in each split**  \n",
    "- **Train**: 71% normal (6470), 29% abnormal (2605)  \n",
    "- **Validation**: 71% normal (1618), 29% abnormal (651)  \n",
    "- **Test**: 71% normal (2022), 29% abnormal (814)  \n",
    "✅ Class distribution is consistent across all sets → prevents bias in evaluation.\n",
    "\n",
    "\n"
   ]
  },
  {
   "cell_type": "markdown",
   "id": "cc885433",
   "metadata": {},
   "source": []
  },
  {
   "cell_type": "markdown",
   "id": "e31800bc",
   "metadata": {},
   "source": [
    "fresh model Build before Run 2\n"
   ]
  },
  {
   "cell_type": "code",
   "execution_count": 17,
   "id": "0dd1062d",
   "metadata": {},
   "outputs": [
    {
     "name": "stdout",
     "output_type": "stream",
     "text": [
      "WARNING:tensorflow:From c:\\Users\\hichr\\OneDrive\\Desktop\\Internship\\venv\\Lib\\site-packages\\keras\\src\\backend\\common\\global_state.py:82: The name tf.reset_default_graph is deprecated. Please use tf.compat.v1.reset_default_graph instead.\n",
      "\n"
     ]
    },
    {
     "name": "stderr",
     "output_type": "stream",
     "text": [
      "c:\\Users\\hichr\\OneDrive\\Desktop\\Internship\\venv\\Lib\\site-packages\\keras\\src\\layers\\convolutional\\base_conv.py:113: UserWarning: Do not pass an `input_shape`/`input_dim` argument to a layer. When using Sequential models, prefer using an `Input(shape)` object as the first layer in the model instead.\n",
      "  super().__init__(activity_regularizer=activity_regularizer, **kwargs)\n"
     ]
    },
    {
     "data": {
      "text/html": [
       "<pre style=\"white-space:pre;overflow-x:auto;line-height:normal;font-family:Menlo,'DejaVu Sans Mono',consolas,'Courier New',monospace\"><span style=\"font-weight: bold\">Model: \"sequential\"</span>\n",
       "</pre>\n"
      ],
      "text/plain": [
       "\u001b[1mModel: \"sequential\"\u001b[0m\n"
      ]
     },
     "metadata": {},
     "output_type": "display_data"
    },
    {
     "data": {
      "text/html": [
       "<pre style=\"white-space:pre;overflow-x:auto;line-height:normal;font-family:Menlo,'DejaVu Sans Mono',consolas,'Courier New',monospace\">┏━━━━━━━━━━━━━━━━━━━━━━━━━━━━━━━━━┳━━━━━━━━━━━━━━━━━━━━━━━━┳━━━━━━━━━━━━━━━┓\n",
       "┃<span style=\"font-weight: bold\"> Layer (type)                    </span>┃<span style=\"font-weight: bold\"> Output Shape           </span>┃<span style=\"font-weight: bold\">       Param # </span>┃\n",
       "┡━━━━━━━━━━━━━━━━━━━━━━━━━━━━━━━━━╇━━━━━━━━━━━━━━━━━━━━━━━━╇━━━━━━━━━━━━━━━┩\n",
       "│ conv1d (<span style=\"color: #0087ff; text-decoration-color: #0087ff\">Conv1D</span>)                 │ (<span style=\"color: #00d7ff; text-decoration-color: #00d7ff\">None</span>, <span style=\"color: #00af00; text-decoration-color: #00af00\">99</span>, <span style=\"color: #00af00; text-decoration-color: #00af00\">64</span>)         │         <span style=\"color: #00af00; text-decoration-color: #00af00\">4,224</span> │\n",
       "├─────────────────────────────────┼────────────────────────┼───────────────┤\n",
       "│ batch_normalization             │ (<span style=\"color: #00d7ff; text-decoration-color: #00d7ff\">None</span>, <span style=\"color: #00af00; text-decoration-color: #00af00\">99</span>, <span style=\"color: #00af00; text-decoration-color: #00af00\">64</span>)         │           <span style=\"color: #00af00; text-decoration-color: #00af00\">256</span> │\n",
       "│ (<span style=\"color: #0087ff; text-decoration-color: #0087ff\">BatchNormalization</span>)            │                        │               │\n",
       "├─────────────────────────────────┼────────────────────────┼───────────────┤\n",
       "│ max_pooling1d (<span style=\"color: #0087ff; text-decoration-color: #0087ff\">MaxPooling1D</span>)    │ (<span style=\"color: #00d7ff; text-decoration-color: #00d7ff\">None</span>, <span style=\"color: #00af00; text-decoration-color: #00af00\">49</span>, <span style=\"color: #00af00; text-decoration-color: #00af00\">64</span>)         │             <span style=\"color: #00af00; text-decoration-color: #00af00\">0</span> │\n",
       "├─────────────────────────────────┼────────────────────────┼───────────────┤\n",
       "│ dropout (<span style=\"color: #0087ff; text-decoration-color: #0087ff\">Dropout</span>)               │ (<span style=\"color: #00d7ff; text-decoration-color: #00d7ff\">None</span>, <span style=\"color: #00af00; text-decoration-color: #00af00\">49</span>, <span style=\"color: #00af00; text-decoration-color: #00af00\">64</span>)         │             <span style=\"color: #00af00; text-decoration-color: #00af00\">0</span> │\n",
       "├─────────────────────────────────┼────────────────────────┼───────────────┤\n",
       "│ conv1d_1 (<span style=\"color: #0087ff; text-decoration-color: #0087ff\">Conv1D</span>)               │ (<span style=\"color: #00d7ff; text-decoration-color: #00d7ff\">None</span>, <span style=\"color: #00af00; text-decoration-color: #00af00\">49</span>, <span style=\"color: #00af00; text-decoration-color: #00af00\">128</span>)        │        <span style=\"color: #00af00; text-decoration-color: #00af00\">24,704</span> │\n",
       "├─────────────────────────────────┼────────────────────────┼───────────────┤\n",
       "│ batch_normalization_1           │ (<span style=\"color: #00d7ff; text-decoration-color: #00d7ff\">None</span>, <span style=\"color: #00af00; text-decoration-color: #00af00\">49</span>, <span style=\"color: #00af00; text-decoration-color: #00af00\">128</span>)        │           <span style=\"color: #00af00; text-decoration-color: #00af00\">512</span> │\n",
       "│ (<span style=\"color: #0087ff; text-decoration-color: #0087ff\">BatchNormalization</span>)            │                        │               │\n",
       "├─────────────────────────────────┼────────────────────────┼───────────────┤\n",
       "│ max_pooling1d_1 (<span style=\"color: #0087ff; text-decoration-color: #0087ff\">MaxPooling1D</span>)  │ (<span style=\"color: #00d7ff; text-decoration-color: #00d7ff\">None</span>, <span style=\"color: #00af00; text-decoration-color: #00af00\">24</span>, <span style=\"color: #00af00; text-decoration-color: #00af00\">128</span>)        │             <span style=\"color: #00af00; text-decoration-color: #00af00\">0</span> │\n",
       "├─────────────────────────────────┼────────────────────────┼───────────────┤\n",
       "│ dropout_1 (<span style=\"color: #0087ff; text-decoration-color: #0087ff\">Dropout</span>)             │ (<span style=\"color: #00d7ff; text-decoration-color: #00d7ff\">None</span>, <span style=\"color: #00af00; text-decoration-color: #00af00\">24</span>, <span style=\"color: #00af00; text-decoration-color: #00af00\">128</span>)        │             <span style=\"color: #00af00; text-decoration-color: #00af00\">0</span> │\n",
       "├─────────────────────────────────┼────────────────────────┼───────────────┤\n",
       "│ conv1d_2 (<span style=\"color: #0087ff; text-decoration-color: #0087ff\">Conv1D</span>)               │ (<span style=\"color: #00d7ff; text-decoration-color: #00d7ff\">None</span>, <span style=\"color: #00af00; text-decoration-color: #00af00\">24</span>, <span style=\"color: #00af00; text-decoration-color: #00af00\">128</span>)        │        <span style=\"color: #00af00; text-decoration-color: #00af00\">49,280</span> │\n",
       "├─────────────────────────────────┼────────────────────────┼───────────────┤\n",
       "│ batch_normalization_2           │ (<span style=\"color: #00d7ff; text-decoration-color: #00d7ff\">None</span>, <span style=\"color: #00af00; text-decoration-color: #00af00\">24</span>, <span style=\"color: #00af00; text-decoration-color: #00af00\">128</span>)        │           <span style=\"color: #00af00; text-decoration-color: #00af00\">512</span> │\n",
       "│ (<span style=\"color: #0087ff; text-decoration-color: #0087ff\">BatchNormalization</span>)            │                        │               │\n",
       "├─────────────────────────────────┼────────────────────────┼───────────────┤\n",
       "│ max_pooling1d_2 (<span style=\"color: #0087ff; text-decoration-color: #0087ff\">MaxPooling1D</span>)  │ (<span style=\"color: #00d7ff; text-decoration-color: #00d7ff\">None</span>, <span style=\"color: #00af00; text-decoration-color: #00af00\">12</span>, <span style=\"color: #00af00; text-decoration-color: #00af00\">128</span>)        │             <span style=\"color: #00af00; text-decoration-color: #00af00\">0</span> │\n",
       "├─────────────────────────────────┼────────────────────────┼───────────────┤\n",
       "│ dropout_2 (<span style=\"color: #0087ff; text-decoration-color: #0087ff\">Dropout</span>)             │ (<span style=\"color: #00d7ff; text-decoration-color: #00d7ff\">None</span>, <span style=\"color: #00af00; text-decoration-color: #00af00\">12</span>, <span style=\"color: #00af00; text-decoration-color: #00af00\">128</span>)        │             <span style=\"color: #00af00; text-decoration-color: #00af00\">0</span> │\n",
       "├─────────────────────────────────┼────────────────────────┼───────────────┤\n",
       "│ flatten (<span style=\"color: #0087ff; text-decoration-color: #0087ff\">Flatten</span>)               │ (<span style=\"color: #00d7ff; text-decoration-color: #00d7ff\">None</span>, <span style=\"color: #00af00; text-decoration-color: #00af00\">1536</span>)           │             <span style=\"color: #00af00; text-decoration-color: #00af00\">0</span> │\n",
       "├─────────────────────────────────┼────────────────────────┼───────────────┤\n",
       "│ dense (<span style=\"color: #0087ff; text-decoration-color: #0087ff\">Dense</span>)                   │ (<span style=\"color: #00d7ff; text-decoration-color: #00d7ff\">None</span>, <span style=\"color: #00af00; text-decoration-color: #00af00\">128</span>)            │       <span style=\"color: #00af00; text-decoration-color: #00af00\">196,736</span> │\n",
       "├─────────────────────────────────┼────────────────────────┼───────────────┤\n",
       "│ dropout_3 (<span style=\"color: #0087ff; text-decoration-color: #0087ff\">Dropout</span>)             │ (<span style=\"color: #00d7ff; text-decoration-color: #00d7ff\">None</span>, <span style=\"color: #00af00; text-decoration-color: #00af00\">128</span>)            │             <span style=\"color: #00af00; text-decoration-color: #00af00\">0</span> │\n",
       "├─────────────────────────────────┼────────────────────────┼───────────────┤\n",
       "│ dense_1 (<span style=\"color: #0087ff; text-decoration-color: #0087ff\">Dense</span>)                 │ (<span style=\"color: #00d7ff; text-decoration-color: #00d7ff\">None</span>, <span style=\"color: #00af00; text-decoration-color: #00af00\">1</span>)              │           <span style=\"color: #00af00; text-decoration-color: #00af00\">129</span> │\n",
       "└─────────────────────────────────┴────────────────────────┴───────────────┘\n",
       "</pre>\n"
      ],
      "text/plain": [
       "┏━━━━━━━━━━━━━━━━━━━━━━━━━━━━━━━━━┳━━━━━━━━━━━━━━━━━━━━━━━━┳━━━━━━━━━━━━━━━┓\n",
       "┃\u001b[1m \u001b[0m\u001b[1mLayer (type)                   \u001b[0m\u001b[1m \u001b[0m┃\u001b[1m \u001b[0m\u001b[1mOutput Shape          \u001b[0m\u001b[1m \u001b[0m┃\u001b[1m \u001b[0m\u001b[1m      Param #\u001b[0m\u001b[1m \u001b[0m┃\n",
       "┡━━━━━━━━━━━━━━━━━━━━━━━━━━━━━━━━━╇━━━━━━━━━━━━━━━━━━━━━━━━╇━━━━━━━━━━━━━━━┩\n",
       "│ conv1d (\u001b[38;5;33mConv1D\u001b[0m)                 │ (\u001b[38;5;45mNone\u001b[0m, \u001b[38;5;34m99\u001b[0m, \u001b[38;5;34m64\u001b[0m)         │         \u001b[38;5;34m4,224\u001b[0m │\n",
       "├─────────────────────────────────┼────────────────────────┼───────────────┤\n",
       "│ batch_normalization             │ (\u001b[38;5;45mNone\u001b[0m, \u001b[38;5;34m99\u001b[0m, \u001b[38;5;34m64\u001b[0m)         │           \u001b[38;5;34m256\u001b[0m │\n",
       "│ (\u001b[38;5;33mBatchNormalization\u001b[0m)            │                        │               │\n",
       "├─────────────────────────────────┼────────────────────────┼───────────────┤\n",
       "│ max_pooling1d (\u001b[38;5;33mMaxPooling1D\u001b[0m)    │ (\u001b[38;5;45mNone\u001b[0m, \u001b[38;5;34m49\u001b[0m, \u001b[38;5;34m64\u001b[0m)         │             \u001b[38;5;34m0\u001b[0m │\n",
       "├─────────────────────────────────┼────────────────────────┼───────────────┤\n",
       "│ dropout (\u001b[38;5;33mDropout\u001b[0m)               │ (\u001b[38;5;45mNone\u001b[0m, \u001b[38;5;34m49\u001b[0m, \u001b[38;5;34m64\u001b[0m)         │             \u001b[38;5;34m0\u001b[0m │\n",
       "├─────────────────────────────────┼────────────────────────┼───────────────┤\n",
       "│ conv1d_1 (\u001b[38;5;33mConv1D\u001b[0m)               │ (\u001b[38;5;45mNone\u001b[0m, \u001b[38;5;34m49\u001b[0m, \u001b[38;5;34m128\u001b[0m)        │        \u001b[38;5;34m24,704\u001b[0m │\n",
       "├─────────────────────────────────┼────────────────────────┼───────────────┤\n",
       "│ batch_normalization_1           │ (\u001b[38;5;45mNone\u001b[0m, \u001b[38;5;34m49\u001b[0m, \u001b[38;5;34m128\u001b[0m)        │           \u001b[38;5;34m512\u001b[0m │\n",
       "│ (\u001b[38;5;33mBatchNormalization\u001b[0m)            │                        │               │\n",
       "├─────────────────────────────────┼────────────────────────┼───────────────┤\n",
       "│ max_pooling1d_1 (\u001b[38;5;33mMaxPooling1D\u001b[0m)  │ (\u001b[38;5;45mNone\u001b[0m, \u001b[38;5;34m24\u001b[0m, \u001b[38;5;34m128\u001b[0m)        │             \u001b[38;5;34m0\u001b[0m │\n",
       "├─────────────────────────────────┼────────────────────────┼───────────────┤\n",
       "│ dropout_1 (\u001b[38;5;33mDropout\u001b[0m)             │ (\u001b[38;5;45mNone\u001b[0m, \u001b[38;5;34m24\u001b[0m, \u001b[38;5;34m128\u001b[0m)        │             \u001b[38;5;34m0\u001b[0m │\n",
       "├─────────────────────────────────┼────────────────────────┼───────────────┤\n",
       "│ conv1d_2 (\u001b[38;5;33mConv1D\u001b[0m)               │ (\u001b[38;5;45mNone\u001b[0m, \u001b[38;5;34m24\u001b[0m, \u001b[38;5;34m128\u001b[0m)        │        \u001b[38;5;34m49,280\u001b[0m │\n",
       "├─────────────────────────────────┼────────────────────────┼───────────────┤\n",
       "│ batch_normalization_2           │ (\u001b[38;5;45mNone\u001b[0m, \u001b[38;5;34m24\u001b[0m, \u001b[38;5;34m128\u001b[0m)        │           \u001b[38;5;34m512\u001b[0m │\n",
       "│ (\u001b[38;5;33mBatchNormalization\u001b[0m)            │                        │               │\n",
       "├─────────────────────────────────┼────────────────────────┼───────────────┤\n",
       "│ max_pooling1d_2 (\u001b[38;5;33mMaxPooling1D\u001b[0m)  │ (\u001b[38;5;45mNone\u001b[0m, \u001b[38;5;34m12\u001b[0m, \u001b[38;5;34m128\u001b[0m)        │             \u001b[38;5;34m0\u001b[0m │\n",
       "├─────────────────────────────────┼────────────────────────┼───────────────┤\n",
       "│ dropout_2 (\u001b[38;5;33mDropout\u001b[0m)             │ (\u001b[38;5;45mNone\u001b[0m, \u001b[38;5;34m12\u001b[0m, \u001b[38;5;34m128\u001b[0m)        │             \u001b[38;5;34m0\u001b[0m │\n",
       "├─────────────────────────────────┼────────────────────────┼───────────────┤\n",
       "│ flatten (\u001b[38;5;33mFlatten\u001b[0m)               │ (\u001b[38;5;45mNone\u001b[0m, \u001b[38;5;34m1536\u001b[0m)           │             \u001b[38;5;34m0\u001b[0m │\n",
       "├─────────────────────────────────┼────────────────────────┼───────────────┤\n",
       "│ dense (\u001b[38;5;33mDense\u001b[0m)                   │ (\u001b[38;5;45mNone\u001b[0m, \u001b[38;5;34m128\u001b[0m)            │       \u001b[38;5;34m196,736\u001b[0m │\n",
       "├─────────────────────────────────┼────────────────────────┼───────────────┤\n",
       "│ dropout_3 (\u001b[38;5;33mDropout\u001b[0m)             │ (\u001b[38;5;45mNone\u001b[0m, \u001b[38;5;34m128\u001b[0m)            │             \u001b[38;5;34m0\u001b[0m │\n",
       "├─────────────────────────────────┼────────────────────────┼───────────────┤\n",
       "│ dense_1 (\u001b[38;5;33mDense\u001b[0m)                 │ (\u001b[38;5;45mNone\u001b[0m, \u001b[38;5;34m1\u001b[0m)              │           \u001b[38;5;34m129\u001b[0m │\n",
       "└─────────────────────────────────┴────────────────────────┴───────────────┘\n"
      ]
     },
     "metadata": {},
     "output_type": "display_data"
    },
    {
     "data": {
      "text/html": [
       "<pre style=\"white-space:pre;overflow-x:auto;line-height:normal;font-family:Menlo,'DejaVu Sans Mono',consolas,'Courier New',monospace\"><span style=\"font-weight: bold\"> Total params: </span><span style=\"color: #00af00; text-decoration-color: #00af00\">276,353</span> (1.05 MB)\n",
       "</pre>\n"
      ],
      "text/plain": [
       "\u001b[1m Total params: \u001b[0m\u001b[38;5;34m276,353\u001b[0m (1.05 MB)\n"
      ]
     },
     "metadata": {},
     "output_type": "display_data"
    },
    {
     "data": {
      "text/html": [
       "<pre style=\"white-space:pre;overflow-x:auto;line-height:normal;font-family:Menlo,'DejaVu Sans Mono',consolas,'Courier New',monospace\"><span style=\"font-weight: bold\"> Trainable params: </span><span style=\"color: #00af00; text-decoration-color: #00af00\">275,713</span> (1.05 MB)\n",
       "</pre>\n"
      ],
      "text/plain": [
       "\u001b[1m Trainable params: \u001b[0m\u001b[38;5;34m275,713\u001b[0m (1.05 MB)\n"
      ]
     },
     "metadata": {},
     "output_type": "display_data"
    },
    {
     "data": {
      "text/html": [
       "<pre style=\"white-space:pre;overflow-x:auto;line-height:normal;font-family:Menlo,'DejaVu Sans Mono',consolas,'Courier New',monospace\"><span style=\"font-weight: bold\"> Non-trainable params: </span><span style=\"color: #00af00; text-decoration-color: #00af00\">640</span> (2.50 KB)\n",
       "</pre>\n"
      ],
      "text/plain": [
       "\u001b[1m Non-trainable params: \u001b[0m\u001b[38;5;34m640\u001b[0m (2.50 KB)\n"
      ]
     },
     "metadata": {},
     "output_type": "display_data"
    },
    {
     "name": "stdout",
     "output_type": "stream",
     "text": [
      "Class weights: {0: 0.7013137557959814, 1: 1.7418426103646834}\n"
     ]
    }
   ],
   "source": [
    "# 🆕 Run 2 — Fresh Model Build\n",
    "import tensorflow as tf\n",
    "from tensorflow.keras import Sequential\n",
    "from tensorflow.keras.layers import Conv1D, MaxPooling1D, Dropout, Flatten, Dense, BatchNormalization\n",
    "from tensorflow.keras.callbacks import EarlyStopping, ModelCheckpoint, ReduceLROnPlateau\n",
    "from sklearn.utils.class_weight import compute_class_weight\n",
    "import numpy as np\n",
    "from pathlib import Path\n",
    "\n",
    "# 1️⃣ Clear any previous model/graph to avoid conflicts\n",
    "tf.keras.backend.clear_session()\n",
    "\n",
    "# 2️⃣ Define input shape based on your NEW split\n",
    "input_shape = (X_train.shape[1], X_train.shape[2])\n",
    "\n",
    "# 3️⃣ Build the model (same architecture as before)\n",
    "model = Sequential([\n",
    "    Conv1D(64, 5, activation=\"relu\", padding=\"same\", input_shape=input_shape),\n",
    "    BatchNormalization(),\n",
    "    MaxPooling1D(2),\n",
    "    Dropout(0.25),\n",
    "\n",
    "    Conv1D(128, 3, activation=\"relu\", padding=\"same\"),\n",
    "    BatchNormalization(),\n",
    "    MaxPooling1D(2),\n",
    "    Dropout(0.25),\n",
    "\n",
    "    Conv1D(128, 3, activation=\"relu\", padding=\"same\"),\n",
    "    BatchNormalization(),\n",
    "    MaxPooling1D(2),\n",
    "    Dropout(0.25),\n",
    "\n",
    "    Flatten(),\n",
    "    Dense(128, activation=\"relu\"),\n",
    "    Dropout(0.4),\n",
    "    Dense(1, activation=\"sigmoid\")  # binary classification output\n",
    "])\n",
    "\n",
    "# 4️⃣ Compile model (fresh optimizer state, set LR explicitly)\n",
    "model.compile(\n",
    "    optimizer=tf.keras.optimizers.Adam(learning_rate=1e-3),\n",
    "    loss=\"binary_crossentropy\",\n",
    "    metrics=[\"accuracy\"]\n",
    ")\n",
    "\n",
    "# 5️⃣ Show summary for verification\n",
    "model.summary()\n",
    "\n",
    "# 6️⃣ Handle class imbalance (based on y_train from new split)\n",
    "classes = np.array([0, 1])\n",
    "class_weights = compute_class_weight(class_weight=\"balanced\", classes=classes, y=y_train)\n",
    "class_weight_dict = {int(c): float(w) for c, w in zip(classes, class_weights)}\n",
    "print(\"Class weights:\", class_weight_dict)\n",
    "\n",
    "# 7️⃣ Callbacks (NEW filename so Run 1 stays safe)\n",
    "MODEL_DIR = Path(PROJECT_ROOT) / \"model\"\n",
    "MODEL_DIR.mkdir(exist_ok=True, parents=True)\n",
    "\n",
    "ckpt_path = MODEL_DIR / \"best_mfcc_1dcnn_run2.keras\"\n",
    "callbacks = [\n",
    "    EarlyStopping(monitor=\"val_loss\", patience=5, restore_best_weights=True),\n",
    "    ModelCheckpoint(filepath=str(ckpt_path), monitor=\"val_loss\", save_best_only=True),\n",
    "    ReduceLROnPlateau(monitor=\"val_loss\", factor=0.5, patience=2, min_lr=1e-5)\n",
    "]\n"
   ]
  },
  {
   "cell_type": "markdown",
   "id": "f3c2c117",
   "metadata": {},
   "source": [
    "Run 2"
   ]
  },
  {
   "cell_type": "code",
   "execution_count": 18,
   "id": "2de67436",
   "metadata": {},
   "outputs": [
    {
     "name": "stdout",
     "output_type": "stream",
     "text": [
      "Train: (9075, 99, 13) Val: (2269, 99, 13) Test: (2836, 99, 13)\n",
      "Train labels: {np.int32(0): np.int64(6470), np.int32(1): np.int64(2605)}\n",
      "Val labels: {np.int32(0): np.int64(1618), np.int32(1): np.int64(651)}\n",
      "Using class weights: {0: 0.7013137557959814, 1: 1.7418426103646834}\n",
      "Epoch 1/30\n",
      "\u001b[1m142/142\u001b[0m \u001b[32m━━━━━━━━━━━━━━━━━━━━\u001b[0m\u001b[37m\u001b[0m \u001b[1m3s\u001b[0m 14ms/step - accuracy: 0.6710 - loss: 0.6709 - val_accuracy: 0.7885 - val_loss: 0.4749 - learning_rate: 0.0010\n",
      "Epoch 2/30\n",
      "\u001b[1m142/142\u001b[0m \u001b[32m━━━━━━━━━━━━━━━━━━━━\u001b[0m\u001b[37m\u001b[0m \u001b[1m2s\u001b[0m 15ms/step - accuracy: 0.7502 - loss: 0.5106 - val_accuracy: 0.7880 - val_loss: 0.4335 - learning_rate: 0.0010\n",
      "Epoch 3/30\n",
      "\u001b[1m142/142\u001b[0m \u001b[32m━━━━━━━━━━━━━━━━━━━━\u001b[0m\u001b[37m\u001b[0m \u001b[1m2s\u001b[0m 13ms/step - accuracy: 0.7648 - loss: 0.4834 - val_accuracy: 0.7135 - val_loss: 0.5218 - learning_rate: 0.0010\n",
      "Epoch 4/30\n",
      "\u001b[1m142/142\u001b[0m \u001b[32m━━━━━━━━━━━━━━━━━━━━\u001b[0m\u001b[37m\u001b[0m \u001b[1m2s\u001b[0m 13ms/step - accuracy: 0.7933 - loss: 0.4502 - val_accuracy: 0.7783 - val_loss: 0.4477 - learning_rate: 0.0010\n",
      "Epoch 5/30\n",
      "\u001b[1m142/142\u001b[0m \u001b[32m━━━━━━━━━━━━━━━━━━━━\u001b[0m\u001b[37m\u001b[0m \u001b[1m2s\u001b[0m 15ms/step - accuracy: 0.7985 - loss: 0.4194 - val_accuracy: 0.8202 - val_loss: 0.4046 - learning_rate: 5.0000e-04\n",
      "Epoch 6/30\n",
      "\u001b[1m142/142\u001b[0m \u001b[32m━━━━━━━━━━━━━━━━━━━━\u001b[0m\u001b[37m\u001b[0m \u001b[1m2s\u001b[0m 14ms/step - accuracy: 0.8134 - loss: 0.4047 - val_accuracy: 0.8211 - val_loss: 0.3875 - learning_rate: 5.0000e-04\n",
      "Epoch 7/30\n",
      "\u001b[1m142/142\u001b[0m \u001b[32m━━━━━━━━━━━━━━━━━━━━\u001b[0m\u001b[37m\u001b[0m \u001b[1m2s\u001b[0m 15ms/step - accuracy: 0.8226 - loss: 0.3930 - val_accuracy: 0.7937 - val_loss: 0.4481 - learning_rate: 5.0000e-04\n",
      "Epoch 8/30\n",
      "\u001b[1m142/142\u001b[0m \u001b[32m━━━━━━━━━━━━━━━━━━━━\u001b[0m\u001b[37m\u001b[0m \u001b[1m2s\u001b[0m 16ms/step - accuracy: 0.8280 - loss: 0.3813 - val_accuracy: 0.8167 - val_loss: 0.4116 - learning_rate: 5.0000e-04\n",
      "Epoch 9/30\n",
      "\u001b[1m142/142\u001b[0m \u001b[32m━━━━━━━━━━━━━━━━━━━━\u001b[0m\u001b[37m\u001b[0m \u001b[1m2s\u001b[0m 14ms/step - accuracy: 0.8407 - loss: 0.3562 - val_accuracy: 0.8109 - val_loss: 0.4364 - learning_rate: 2.5000e-04\n",
      "Epoch 10/30\n",
      "\u001b[1m142/142\u001b[0m \u001b[32m━━━━━━━━━━━━━━━━━━━━\u001b[0m\u001b[37m\u001b[0m \u001b[1m2s\u001b[0m 13ms/step - accuracy: 0.8484 - loss: 0.3468 - val_accuracy: 0.7955 - val_loss: 0.4669 - learning_rate: 2.5000e-04\n",
      "Epoch 11/30\n",
      "\u001b[1m142/142\u001b[0m \u001b[32m━━━━━━━━━━━━━━━━━━━━\u001b[0m\u001b[37m\u001b[0m \u001b[1m2s\u001b[0m 13ms/step - accuracy: 0.8563 - loss: 0.3247 - val_accuracy: 0.8096 - val_loss: 0.4347 - learning_rate: 1.2500e-04\n",
      "Saved training history to: c:\\Users\\hichr\\OneDrive\\Desktop\\Internship\\model\\train_history_new_split.json\n"
     ]
    }
   ],
   "source": [
    "# Cell 7 — Train the model (new split, with callbacks & class weights)\n",
    "\n",
    "import json\n",
    "import numpy as np\n",
    "\n",
    "# 🔍 Sanity check\n",
    "print(\"Train:\", X_train.shape, \"Val:\", X_val.shape, \"Test:\", X_test.shape)\n",
    "print(\"Train labels:\", dict(zip(*np.unique(y_train, return_counts=True))))\n",
    "print(\"Val labels:\", dict(zip(*np.unique(y_val, return_counts=True))))\n",
    "print(\"Using class weights:\", class_weight_dict)\n",
    "\n",
    "# 🏋️ Train\n",
    "history = model.fit(\n",
    "    X_train, y_train,\n",
    "    validation_data=(X_val, y_val),\n",
    "    epochs=30,                 # tune based on results (20–50 common)\n",
    "    batch_size=64,             # tune for speed/memory\n",
    "    class_weight=class_weight_dict,\n",
    "    callbacks=callbacks,       # from Cell 6\n",
    "    shuffle=True,\n",
    "    verbose=1\n",
    ")\n",
    "\n",
    "# 💾 Save training history for later analysis\n",
    "hist_path = MODEL_DIR / \"train_history_new_split.json\"\n",
    "with open(hist_path, \"w\", encoding=\"utf-8\") as f:\n",
    "    json.dump(history.history, f, indent=2)\n",
    "print(f\"Saved training history to: {hist_path}\")\n"
   ]
  },
  {
   "cell_type": "code",
   "execution_count": 20,
   "id": "e599dbe6",
   "metadata": {},
   "outputs": [
    {
     "name": "stderr",
     "output_type": "stream",
     "text": [
      "c:\\Users\\hichr\\OneDrive\\Desktop\\Internship\\venv\\Lib\\site-packages\\keras\\src\\layers\\convolutional\\base_conv.py:113: UserWarning: Do not pass an `input_shape`/`input_dim` argument to a layer. When using Sequential models, prefer using an `Input(shape)` object as the first layer in the model instead.\n",
      "  super().__init__(activity_regularizer=activity_regularizer, **kwargs)\n"
     ]
    },
    {
     "data": {
      "text/html": [
       "<pre style=\"white-space:pre;overflow-x:auto;line-height:normal;font-family:Menlo,'DejaVu Sans Mono',consolas,'Courier New',monospace\"><span style=\"font-weight: bold\">Model: \"sequential\"</span>\n",
       "</pre>\n"
      ],
      "text/plain": [
       "\u001b[1mModel: \"sequential\"\u001b[0m\n"
      ]
     },
     "metadata": {},
     "output_type": "display_data"
    },
    {
     "data": {
      "text/html": [
       "<pre style=\"white-space:pre;overflow-x:auto;line-height:normal;font-family:Menlo,'DejaVu Sans Mono',consolas,'Courier New',monospace\">┏━━━━━━━━━━━━━━━━━━━━━━━━━━━━━━━━━┳━━━━━━━━━━━━━━━━━━━━━━━━┳━━━━━━━━━━━━━━━┓\n",
       "┃<span style=\"font-weight: bold\"> Layer (type)                    </span>┃<span style=\"font-weight: bold\"> Output Shape           </span>┃<span style=\"font-weight: bold\">       Param # </span>┃\n",
       "┡━━━━━━━━━━━━━━━━━━━━━━━━━━━━━━━━━╇━━━━━━━━━━━━━━━━━━━━━━━━╇━━━━━━━━━━━━━━━┩\n",
       "│ conv1d (<span style=\"color: #0087ff; text-decoration-color: #0087ff\">Conv1D</span>)                 │ (<span style=\"color: #00d7ff; text-decoration-color: #00d7ff\">None</span>, <span style=\"color: #00af00; text-decoration-color: #00af00\">99</span>, <span style=\"color: #00af00; text-decoration-color: #00af00\">64</span>)         │         <span style=\"color: #00af00; text-decoration-color: #00af00\">4,224</span> │\n",
       "├─────────────────────────────────┼────────────────────────┼───────────────┤\n",
       "│ batch_normalization             │ (<span style=\"color: #00d7ff; text-decoration-color: #00d7ff\">None</span>, <span style=\"color: #00af00; text-decoration-color: #00af00\">99</span>, <span style=\"color: #00af00; text-decoration-color: #00af00\">64</span>)         │           <span style=\"color: #00af00; text-decoration-color: #00af00\">256</span> │\n",
       "│ (<span style=\"color: #0087ff; text-decoration-color: #0087ff\">BatchNormalization</span>)            │                        │               │\n",
       "├─────────────────────────────────┼────────────────────────┼───────────────┤\n",
       "│ max_pooling1d (<span style=\"color: #0087ff; text-decoration-color: #0087ff\">MaxPooling1D</span>)    │ (<span style=\"color: #00d7ff; text-decoration-color: #00d7ff\">None</span>, <span style=\"color: #00af00; text-decoration-color: #00af00\">49</span>, <span style=\"color: #00af00; text-decoration-color: #00af00\">64</span>)         │             <span style=\"color: #00af00; text-decoration-color: #00af00\">0</span> │\n",
       "├─────────────────────────────────┼────────────────────────┼───────────────┤\n",
       "│ dropout (<span style=\"color: #0087ff; text-decoration-color: #0087ff\">Dropout</span>)               │ (<span style=\"color: #00d7ff; text-decoration-color: #00d7ff\">None</span>, <span style=\"color: #00af00; text-decoration-color: #00af00\">49</span>, <span style=\"color: #00af00; text-decoration-color: #00af00\">64</span>)         │             <span style=\"color: #00af00; text-decoration-color: #00af00\">0</span> │\n",
       "├─────────────────────────────────┼────────────────────────┼───────────────┤\n",
       "│ conv1d_1 (<span style=\"color: #0087ff; text-decoration-color: #0087ff\">Conv1D</span>)               │ (<span style=\"color: #00d7ff; text-decoration-color: #00d7ff\">None</span>, <span style=\"color: #00af00; text-decoration-color: #00af00\">49</span>, <span style=\"color: #00af00; text-decoration-color: #00af00\">128</span>)        │        <span style=\"color: #00af00; text-decoration-color: #00af00\">24,704</span> │\n",
       "├─────────────────────────────────┼────────────────────────┼───────────────┤\n",
       "│ batch_normalization_1           │ (<span style=\"color: #00d7ff; text-decoration-color: #00d7ff\">None</span>, <span style=\"color: #00af00; text-decoration-color: #00af00\">49</span>, <span style=\"color: #00af00; text-decoration-color: #00af00\">128</span>)        │           <span style=\"color: #00af00; text-decoration-color: #00af00\">512</span> │\n",
       "│ (<span style=\"color: #0087ff; text-decoration-color: #0087ff\">BatchNormalization</span>)            │                        │               │\n",
       "├─────────────────────────────────┼────────────────────────┼───────────────┤\n",
       "│ max_pooling1d_1 (<span style=\"color: #0087ff; text-decoration-color: #0087ff\">MaxPooling1D</span>)  │ (<span style=\"color: #00d7ff; text-decoration-color: #00d7ff\">None</span>, <span style=\"color: #00af00; text-decoration-color: #00af00\">24</span>, <span style=\"color: #00af00; text-decoration-color: #00af00\">128</span>)        │             <span style=\"color: #00af00; text-decoration-color: #00af00\">0</span> │\n",
       "├─────────────────────────────────┼────────────────────────┼───────────────┤\n",
       "│ dropout_1 (<span style=\"color: #0087ff; text-decoration-color: #0087ff\">Dropout</span>)             │ (<span style=\"color: #00d7ff; text-decoration-color: #00d7ff\">None</span>, <span style=\"color: #00af00; text-decoration-color: #00af00\">24</span>, <span style=\"color: #00af00; text-decoration-color: #00af00\">128</span>)        │             <span style=\"color: #00af00; text-decoration-color: #00af00\">0</span> │\n",
       "├─────────────────────────────────┼────────────────────────┼───────────────┤\n",
       "│ conv1d_2 (<span style=\"color: #0087ff; text-decoration-color: #0087ff\">Conv1D</span>)               │ (<span style=\"color: #00d7ff; text-decoration-color: #00d7ff\">None</span>, <span style=\"color: #00af00; text-decoration-color: #00af00\">24</span>, <span style=\"color: #00af00; text-decoration-color: #00af00\">128</span>)        │        <span style=\"color: #00af00; text-decoration-color: #00af00\">49,280</span> │\n",
       "├─────────────────────────────────┼────────────────────────┼───────────────┤\n",
       "│ batch_normalization_2           │ (<span style=\"color: #00d7ff; text-decoration-color: #00d7ff\">None</span>, <span style=\"color: #00af00; text-decoration-color: #00af00\">24</span>, <span style=\"color: #00af00; text-decoration-color: #00af00\">128</span>)        │           <span style=\"color: #00af00; text-decoration-color: #00af00\">512</span> │\n",
       "│ (<span style=\"color: #0087ff; text-decoration-color: #0087ff\">BatchNormalization</span>)            │                        │               │\n",
       "├─────────────────────────────────┼────────────────────────┼───────────────┤\n",
       "│ max_pooling1d_2 (<span style=\"color: #0087ff; text-decoration-color: #0087ff\">MaxPooling1D</span>)  │ (<span style=\"color: #00d7ff; text-decoration-color: #00d7ff\">None</span>, <span style=\"color: #00af00; text-decoration-color: #00af00\">12</span>, <span style=\"color: #00af00; text-decoration-color: #00af00\">128</span>)        │             <span style=\"color: #00af00; text-decoration-color: #00af00\">0</span> │\n",
       "├─────────────────────────────────┼────────────────────────┼───────────────┤\n",
       "│ dropout_2 (<span style=\"color: #0087ff; text-decoration-color: #0087ff\">Dropout</span>)             │ (<span style=\"color: #00d7ff; text-decoration-color: #00d7ff\">None</span>, <span style=\"color: #00af00; text-decoration-color: #00af00\">12</span>, <span style=\"color: #00af00; text-decoration-color: #00af00\">128</span>)        │             <span style=\"color: #00af00; text-decoration-color: #00af00\">0</span> │\n",
       "├─────────────────────────────────┼────────────────────────┼───────────────┤\n",
       "│ flatten (<span style=\"color: #0087ff; text-decoration-color: #0087ff\">Flatten</span>)               │ (<span style=\"color: #00d7ff; text-decoration-color: #00d7ff\">None</span>, <span style=\"color: #00af00; text-decoration-color: #00af00\">1536</span>)           │             <span style=\"color: #00af00; text-decoration-color: #00af00\">0</span> │\n",
       "├─────────────────────────────────┼────────────────────────┼───────────────┤\n",
       "│ dense (<span style=\"color: #0087ff; text-decoration-color: #0087ff\">Dense</span>)                   │ (<span style=\"color: #00d7ff; text-decoration-color: #00d7ff\">None</span>, <span style=\"color: #00af00; text-decoration-color: #00af00\">128</span>)            │       <span style=\"color: #00af00; text-decoration-color: #00af00\">196,736</span> │\n",
       "├─────────────────────────────────┼────────────────────────┼───────────────┤\n",
       "│ dropout_3 (<span style=\"color: #0087ff; text-decoration-color: #0087ff\">Dropout</span>)             │ (<span style=\"color: #00d7ff; text-decoration-color: #00d7ff\">None</span>, <span style=\"color: #00af00; text-decoration-color: #00af00\">128</span>)            │             <span style=\"color: #00af00; text-decoration-color: #00af00\">0</span> │\n",
       "├─────────────────────────────────┼────────────────────────┼───────────────┤\n",
       "│ dense_1 (<span style=\"color: #0087ff; text-decoration-color: #0087ff\">Dense</span>)                 │ (<span style=\"color: #00d7ff; text-decoration-color: #00d7ff\">None</span>, <span style=\"color: #00af00; text-decoration-color: #00af00\">1</span>)              │           <span style=\"color: #00af00; text-decoration-color: #00af00\">129</span> │\n",
       "└─────────────────────────────────┴────────────────────────┴───────────────┘\n",
       "</pre>\n"
      ],
      "text/plain": [
       "┏━━━━━━━━━━━━━━━━━━━━━━━━━━━━━━━━━┳━━━━━━━━━━━━━━━━━━━━━━━━┳━━━━━━━━━━━━━━━┓\n",
       "┃\u001b[1m \u001b[0m\u001b[1mLayer (type)                   \u001b[0m\u001b[1m \u001b[0m┃\u001b[1m \u001b[0m\u001b[1mOutput Shape          \u001b[0m\u001b[1m \u001b[0m┃\u001b[1m \u001b[0m\u001b[1m      Param #\u001b[0m\u001b[1m \u001b[0m┃\n",
       "┡━━━━━━━━━━━━━━━━━━━━━━━━━━━━━━━━━╇━━━━━━━━━━━━━━━━━━━━━━━━╇━━━━━━━━━━━━━━━┩\n",
       "│ conv1d (\u001b[38;5;33mConv1D\u001b[0m)                 │ (\u001b[38;5;45mNone\u001b[0m, \u001b[38;5;34m99\u001b[0m, \u001b[38;5;34m64\u001b[0m)         │         \u001b[38;5;34m4,224\u001b[0m │\n",
       "├─────────────────────────────────┼────────────────────────┼───────────────┤\n",
       "│ batch_normalization             │ (\u001b[38;5;45mNone\u001b[0m, \u001b[38;5;34m99\u001b[0m, \u001b[38;5;34m64\u001b[0m)         │           \u001b[38;5;34m256\u001b[0m │\n",
       "│ (\u001b[38;5;33mBatchNormalization\u001b[0m)            │                        │               │\n",
       "├─────────────────────────────────┼────────────────────────┼───────────────┤\n",
       "│ max_pooling1d (\u001b[38;5;33mMaxPooling1D\u001b[0m)    │ (\u001b[38;5;45mNone\u001b[0m, \u001b[38;5;34m49\u001b[0m, \u001b[38;5;34m64\u001b[0m)         │             \u001b[38;5;34m0\u001b[0m │\n",
       "├─────────────────────────────────┼────────────────────────┼───────────────┤\n",
       "│ dropout (\u001b[38;5;33mDropout\u001b[0m)               │ (\u001b[38;5;45mNone\u001b[0m, \u001b[38;5;34m49\u001b[0m, \u001b[38;5;34m64\u001b[0m)         │             \u001b[38;5;34m0\u001b[0m │\n",
       "├─────────────────────────────────┼────────────────────────┼───────────────┤\n",
       "│ conv1d_1 (\u001b[38;5;33mConv1D\u001b[0m)               │ (\u001b[38;5;45mNone\u001b[0m, \u001b[38;5;34m49\u001b[0m, \u001b[38;5;34m128\u001b[0m)        │        \u001b[38;5;34m24,704\u001b[0m │\n",
       "├─────────────────────────────────┼────────────────────────┼───────────────┤\n",
       "│ batch_normalization_1           │ (\u001b[38;5;45mNone\u001b[0m, \u001b[38;5;34m49\u001b[0m, \u001b[38;5;34m128\u001b[0m)        │           \u001b[38;5;34m512\u001b[0m │\n",
       "│ (\u001b[38;5;33mBatchNormalization\u001b[0m)            │                        │               │\n",
       "├─────────────────────────────────┼────────────────────────┼───────────────┤\n",
       "│ max_pooling1d_1 (\u001b[38;5;33mMaxPooling1D\u001b[0m)  │ (\u001b[38;5;45mNone\u001b[0m, \u001b[38;5;34m24\u001b[0m, \u001b[38;5;34m128\u001b[0m)        │             \u001b[38;5;34m0\u001b[0m │\n",
       "├─────────────────────────────────┼────────────────────────┼───────────────┤\n",
       "│ dropout_1 (\u001b[38;5;33mDropout\u001b[0m)             │ (\u001b[38;5;45mNone\u001b[0m, \u001b[38;5;34m24\u001b[0m, \u001b[38;5;34m128\u001b[0m)        │             \u001b[38;5;34m0\u001b[0m │\n",
       "├─────────────────────────────────┼────────────────────────┼───────────────┤\n",
       "│ conv1d_2 (\u001b[38;5;33mConv1D\u001b[0m)               │ (\u001b[38;5;45mNone\u001b[0m, \u001b[38;5;34m24\u001b[0m, \u001b[38;5;34m128\u001b[0m)        │        \u001b[38;5;34m49,280\u001b[0m │\n",
       "├─────────────────────────────────┼────────────────────────┼───────────────┤\n",
       "│ batch_normalization_2           │ (\u001b[38;5;45mNone\u001b[0m, \u001b[38;5;34m24\u001b[0m, \u001b[38;5;34m128\u001b[0m)        │           \u001b[38;5;34m512\u001b[0m │\n",
       "│ (\u001b[38;5;33mBatchNormalization\u001b[0m)            │                        │               │\n",
       "├─────────────────────────────────┼────────────────────────┼───────────────┤\n",
       "│ max_pooling1d_2 (\u001b[38;5;33mMaxPooling1D\u001b[0m)  │ (\u001b[38;5;45mNone\u001b[0m, \u001b[38;5;34m12\u001b[0m, \u001b[38;5;34m128\u001b[0m)        │             \u001b[38;5;34m0\u001b[0m │\n",
       "├─────────────────────────────────┼────────────────────────┼───────────────┤\n",
       "│ dropout_2 (\u001b[38;5;33mDropout\u001b[0m)             │ (\u001b[38;5;45mNone\u001b[0m, \u001b[38;5;34m12\u001b[0m, \u001b[38;5;34m128\u001b[0m)        │             \u001b[38;5;34m0\u001b[0m │\n",
       "├─────────────────────────────────┼────────────────────────┼───────────────┤\n",
       "│ flatten (\u001b[38;5;33mFlatten\u001b[0m)               │ (\u001b[38;5;45mNone\u001b[0m, \u001b[38;5;34m1536\u001b[0m)           │             \u001b[38;5;34m0\u001b[0m │\n",
       "├─────────────────────────────────┼────────────────────────┼───────────────┤\n",
       "│ dense (\u001b[38;5;33mDense\u001b[0m)                   │ (\u001b[38;5;45mNone\u001b[0m, \u001b[38;5;34m128\u001b[0m)            │       \u001b[38;5;34m196,736\u001b[0m │\n",
       "├─────────────────────────────────┼────────────────────────┼───────────────┤\n",
       "│ dropout_3 (\u001b[38;5;33mDropout\u001b[0m)             │ (\u001b[38;5;45mNone\u001b[0m, \u001b[38;5;34m128\u001b[0m)            │             \u001b[38;5;34m0\u001b[0m │\n",
       "├─────────────────────────────────┼────────────────────────┼───────────────┤\n",
       "│ dense_1 (\u001b[38;5;33mDense\u001b[0m)                 │ (\u001b[38;5;45mNone\u001b[0m, \u001b[38;5;34m1\u001b[0m)              │           \u001b[38;5;34m129\u001b[0m │\n",
       "└─────────────────────────────────┴────────────────────────┴───────────────┘\n"
      ]
     },
     "metadata": {},
     "output_type": "display_data"
    },
    {
     "data": {
      "text/html": [
       "<pre style=\"white-space:pre;overflow-x:auto;line-height:normal;font-family:Menlo,'DejaVu Sans Mono',consolas,'Courier New',monospace\"><span style=\"font-weight: bold\"> Total params: </span><span style=\"color: #00af00; text-decoration-color: #00af00\">276,353</span> (1.05 MB)\n",
       "</pre>\n"
      ],
      "text/plain": [
       "\u001b[1m Total params: \u001b[0m\u001b[38;5;34m276,353\u001b[0m (1.05 MB)\n"
      ]
     },
     "metadata": {},
     "output_type": "display_data"
    },
    {
     "data": {
      "text/html": [
       "<pre style=\"white-space:pre;overflow-x:auto;line-height:normal;font-family:Menlo,'DejaVu Sans Mono',consolas,'Courier New',monospace\"><span style=\"font-weight: bold\"> Trainable params: </span><span style=\"color: #00af00; text-decoration-color: #00af00\">275,713</span> (1.05 MB)\n",
       "</pre>\n"
      ],
      "text/plain": [
       "\u001b[1m Trainable params: \u001b[0m\u001b[38;5;34m275,713\u001b[0m (1.05 MB)\n"
      ]
     },
     "metadata": {},
     "output_type": "display_data"
    },
    {
     "data": {
      "text/html": [
       "<pre style=\"white-space:pre;overflow-x:auto;line-height:normal;font-family:Menlo,'DejaVu Sans Mono',consolas,'Courier New',monospace\"><span style=\"font-weight: bold\"> Non-trainable params: </span><span style=\"color: #00af00; text-decoration-color: #00af00\">640</span> (2.50 KB)\n",
       "</pre>\n"
      ],
      "text/plain": [
       "\u001b[1m Non-trainable params: \u001b[0m\u001b[38;5;34m640\u001b[0m (2.50 KB)\n"
      ]
     },
     "metadata": {},
     "output_type": "display_data"
    }
   ],
   "source": [
    "# 🔄 Reset the model completely\n",
    "import tensorflow as tf\n",
    "from tensorflow.keras import Sequential\n",
    "from tensorflow.keras.layers import Conv1D, MaxPooling1D, Dropout, Flatten, Dense, BatchNormalization\n",
    "\n",
    "tf.keras.backend.clear_session()  # clear previous model/optimizer from memory\n",
    "\n",
    "# Define model with your updated hyperparameters\n",
    "input_shape = (X_train.shape[1], X_train.shape[2])\n",
    "\n",
    "model = Sequential([\n",
    "    Conv1D(64, 5, activation=\"relu\", padding=\"same\", input_shape=input_shape),  # change params here if needed\n",
    "    BatchNormalization(),\n",
    "    MaxPooling1D(2),\n",
    "    Dropout(0.25),\n",
    "\n",
    "    Conv1D(128, 3, activation=\"relu\", padding=\"same\"),  # change params here\n",
    "    BatchNormalization(),\n",
    "    MaxPooling1D(2),\n",
    "    Dropout(0.25),\n",
    "\n",
    "    Conv1D(128, 3, activation=\"relu\", padding=\"same\"),\n",
    "    BatchNormalization(),\n",
    "    MaxPooling1D(2),\n",
    "    Dropout(0.25),\n",
    "\n",
    "    Flatten(),\n",
    "    Dense(128, activation=\"relu\"),  # adjust units if testing\n",
    "    Dropout(0.4),\n",
    "    Dense(1, activation=\"sigmoid\")  # binary output\n",
    "])\n",
    "\n",
    "# Compile with your chosen optimizer & LR\n",
    "model.compile(\n",
    "    optimizer=tf.keras.optimizers.Adam(learning_rate=1e-3),  # change LR here if testing\n",
    "    loss=\"binary_crossentropy\",\n",
    "    metrics=[\"accuracy\"]\n",
    ")\n",
    "\n",
    "model.summary()\n"
   ]
  },
  {
   "cell_type": "code",
   "execution_count": 21,
   "id": "08b08182",
   "metadata": {},
   "outputs": [
    {
     "name": "stdout",
     "output_type": "stream",
     "text": [
      "Train: (9075, 99, 13) Val: (2269, 99, 13) Test: (2836, 99, 13)\n",
      "Train labels: {np.int32(0): np.int64(6470), np.int32(1): np.int64(2605)}\n",
      "Val labels: {np.int32(0): np.int64(1618), np.int32(1): np.int64(651)}\n",
      "Using class weights: {0: 0.7013137557959814, 1: 1.7418426103646834}\n",
      "Epoch 1/30\n",
      "\u001b[1m142/142\u001b[0m \u001b[32m━━━━━━━━━━━━━━━━━━━━\u001b[0m\u001b[37m\u001b[0m \u001b[1m7s\u001b[0m 23ms/step - accuracy: 0.6657 - loss: 0.6761 - val_accuracy: 0.7104 - val_loss: 0.5289 - learning_rate: 0.0010\n",
      "Epoch 2/30\n",
      "\u001b[1m142/142\u001b[0m \u001b[32m━━━━━━━━━━━━━━━━━━━━\u001b[0m\u001b[37m\u001b[0m \u001b[1m4s\u001b[0m 30ms/step - accuracy: 0.7479 - loss: 0.5054 - val_accuracy: 0.7699 - val_loss: 0.4608 - learning_rate: 0.0010\n",
      "Epoch 3/30\n",
      "\u001b[1m142/142\u001b[0m \u001b[32m━━━━━━━━━━━━━━━━━━━━\u001b[0m\u001b[37m\u001b[0m \u001b[1m3s\u001b[0m 22ms/step - accuracy: 0.7576 - loss: 0.4710 - val_accuracy: 0.7664 - val_loss: 0.4874 - learning_rate: 5.0000e-04\n",
      "Epoch 4/30\n",
      "\u001b[1m142/142\u001b[0m \u001b[32m━━━━━━━━━━━━━━━━━━━━\u001b[0m\u001b[37m\u001b[0m \u001b[1m3s\u001b[0m 21ms/step - accuracy: 0.7748 - loss: 0.4533 - val_accuracy: 0.7669 - val_loss: 0.4591 - learning_rate: 5.0000e-04\n",
      "Epoch 5/30\n",
      "\u001b[1m142/142\u001b[0m \u001b[32m━━━━━━━━━━━━━━━━━━━━\u001b[0m\u001b[37m\u001b[0m \u001b[1m3s\u001b[0m 22ms/step - accuracy: 0.7905 - loss: 0.4308 - val_accuracy: 0.7876 - val_loss: 0.4458 - learning_rate: 2.5000e-04\n",
      "Saved training history to: c:\\Users\\hichr\\OneDrive\\Desktop\\Internship\\model\\train_history_new_split.json\n"
     ]
    }
   ],
   "source": [
    "# Cell 7 — Train the model (new split, with callbacks & class weights)\n",
    "\n",
    "import json\n",
    "import numpy as np\n",
    "\n",
    "# 🔍 Sanity check\n",
    "print(\"Train:\", X_train.shape, \"Val:\", X_val.shape, \"Test:\", X_test.shape)\n",
    "print(\"Train labels:\", dict(zip(*np.unique(y_train, return_counts=True))))\n",
    "print(\"Val labels:\", dict(zip(*np.unique(y_val, return_counts=True))))\n",
    "print(\"Using class weights:\", class_weight_dict)\n",
    "\n",
    "# 🏋️ Train\n",
    "history = model.fit(\n",
    "    X_train, y_train,\n",
    "    validation_data=(X_val, y_val),\n",
    "    epochs=30,                 # tune based on results (20–50 common)\n",
    "    batch_size=64,             # tune for speed/memory\n",
    "    class_weight=class_weight_dict,\n",
    "    callbacks=callbacks,       # from Cell 6\n",
    "    shuffle=True,\n",
    "    verbose=1\n",
    ")\n",
    "\n",
    "# 💾 Save training history for later analysis\n",
    "hist_path = MODEL_DIR / \"train_history_new_split.json\"\n",
    "with open(hist_path, \"w\", encoding=\"utf-8\") as f:\n",
    "    json.dump(history.history, f, indent=2)\n",
    "print(f\"Saved training history to: {hist_path}\")\n"
   ]
  }
 ],
 "metadata": {
  "kernelspec": {
   "display_name": "venv",
   "language": "python",
   "name": "python3"
  },
  "language_info": {
   "codemirror_mode": {
    "name": "ipython",
    "version": 3
   },
   "file_extension": ".py",
   "mimetype": "text/x-python",
   "name": "python",
   "nbconvert_exporter": "python",
   "pygments_lexer": "ipython3",
   "version": "3.13.1"
  }
 },
 "nbformat": 4,
 "nbformat_minor": 5
}
